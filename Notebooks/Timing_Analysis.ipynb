{
 "cells": [
  {
   "cell_type": "markdown",
   "metadata": {
    "id": "bYTj7JWt2edY"
   },
   "source": [
    "# Timing Analysis "
   ]
  },
  {
   "cell_type": "code",
   "execution_count": 23,
   "metadata": {
    "id": "YSmtr_35yGND"
   },
   "outputs": [],
   "source": [
    "from timeit import timeit \n",
    "import numpy as np\n",
    "import pandas as pd\n",
    "from sklearn.metrics.pairwise import euclidean_distances\n",
    "from sklearn.metrics.pairwise import cosine_similarity\n",
    "from sklearn.metrics.pairwise import cosine_distances\n",
    "from sklearn.neighbors import NearestNeighbors\n",
    "from scipy import sparse\n",
    "import scipy\n",
    "import submodlib_cpp as subcp\n",
    "from submodlib.helper import create_kernel\n",
    "import random\n",
    "from time import time"
   ]
  },
  {
   "cell_type": "markdown",
   "metadata": {
    "id": "7ISH6GcL2lHR"
   },
   "source": [
    "## 1) CPP Helper V/S Python Helper"
   ]
  },
  {
   "cell_type": "code",
   "execution_count": 24,
   "metadata": {
    "id": "w3TKEdLLn8sm"
   },
   "outputs": [],
   "source": [
    "data = None\n",
    "try: #Simply load data if already created\n",
    "    with open('/content/drive/MyDrive/submodlib_data/large_data.npy', 'rb') as f:\n",
    "        data = np.load(f, allow_pickle=True)\n",
    "except: #Create data\n",
    "    random.seed(0)\n",
    "    def generate_datapoint(arg):\n",
    "        #random.seed(arg)\n",
    "        #x=random.randrange(1000)-random.randrange(1000)\n",
    "        #y=random.randrange(10)-random.randrange(10)\n",
    "        #z=(random.randrange(100)/100)-(random.randrange(100)/100)\n",
    "        l_feat = []\n",
    "        for i in range(2000):\n",
    "            toss = random.randrange(0, 2)\n",
    "            if toss==0:\n",
    "                bound_val=random.randrange(10, 10000)\n",
    "                #val=random.randrange(bound_val)-random.randrange(bound_val)\n",
    "                val=random.randrange(-1*bound_val, bound_val)\n",
    "            else:\n",
    "                val = random.randrange(-100, 100)/100\n",
    "\n",
    "            l_feat.append(val)\n",
    "        if arg%10000==0:\n",
    "            print(arg)\n",
    "        #return (x,y,z)\n",
    "        return l_feat\n",
    "\n",
    "    l = list(map(generate_datapoint, range(100000)))#Generating 100K datapoints\n",
    "    data = np.array(l)\n",
    "    \n",
    "    with open('/content/drive/MyDrive/submodlib_data/large_data.npy', 'wb') as f:\n",
    "        np.save(f,data, allow_pickle=True)\n",
    "\n",
    "l_record=[]"
   ]
  },
  {
   "cell_type": "code",
   "execution_count": 25,
   "metadata": {
    "colab": {
     "base_uri": "https://localhost:8080/"
    },
    "id": "gyvQKmILs3ad",
    "outputId": "2bb5c554-499d-4581-f7aa-bdc05019fa39"
   },
   "outputs": [
    {
     "data": {
      "text/plain": [
       "(100000, 2000)"
      ]
     },
     "execution_count": 25,
     "metadata": {
      "tags": []
     },
     "output_type": "execute_result"
    }
   ],
   "source": [
    "np.shape(data)"
   ]
  },
  {
   "cell_type": "code",
   "execution_count": 26,
   "metadata": {
    "colab": {
     "base_uri": "https://localhost:8080/"
    },
    "id": "kmVL-dEAtC3J",
    "outputId": "cd325d2f-a7cd-4f6a-fe87-f4add89681d9"
   },
   "outputs": [
    {
     "name": "stdout",
     "output_type": "stream",
     "text": [
      "cpp_helper_euclidean: 0.011599696000303084 \n",
      "\n"
     ]
    }
   ],
   "source": [
    "def fun1():# cpp_helper_euclidean (Non-vectorized, min-heap based approach)\n",
    "    subcp.create_kernel(data.tolist(), \"euclidean\" ,num_neigh)\n",
    "t=timeit('fun1', 'from __main__ import fun1')\n",
    "l_record.append((\"cpp_helper_euclidean\", t))\n",
    "print(\"cpp_helper_euclidean:\", t,'\\n')"
   ]
  },
  {
   "cell_type": "code",
   "execution_count": 27,
   "metadata": {
    "colab": {
     "base_uri": "https://localhost:8080/"
    },
    "id": "C_v5dwqU20HP",
    "outputId": "e5187641-b37e-425e-e8e6-e9ee0d0591be"
   },
   "outputs": [
    {
     "name": "stdout",
     "output_type": "stream",
     "text": [
      "python_helper_euclidean: 0.01354807500001698 \n",
      "\n"
     ]
    }
   ],
   "source": [
    "def fun2(): #python_helper_euclidean(vectorized knn clustering approach) \n",
    "    n_, K_dense = create_kernel(data, 'dense','euclidean')\n",
    "t=timeit('fun2', 'from __main__ import fun2')\n",
    "l_record.append((\"python_helper_euclidean\", t))\n",
    "print(\"python_helper_euclidean:\", t,'\\n')"
   ]
  },
  {
   "cell_type": "code",
   "execution_count": 28,
   "metadata": {
    "colab": {
     "base_uri": "https://localhost:8080/"
    },
    "id": "3aN1F4hT22wI",
    "outputId": "c98dc76b-5b48-459c-cd13-fb5b07ff4973"
   },
   "outputs": [
    {
     "name": "stdout",
     "output_type": "stream",
     "text": [
      "cpp_helper_cosine: 0.019444560000010824 \n",
      "\n"
     ]
    }
   ],
   "source": [
    "def fun3():# cpp_helper_cosine (Non-vectorized, min-heap based approach)\n",
    "    subcp.create_kernel(data.tolist(), \"cosine\" ,num_neigh)\n",
    "t=timeit('fun3', 'from __main__ import fun3')\n",
    "l_record.append((\"cpp_helper_cosine\", t))\n",
    "print(\"cpp_helper_cosine:\", t,'\\n')"
   ]
  },
  {
   "cell_type": "code",
   "execution_count": 29,
   "metadata": {
    "colab": {
     "base_uri": "https://localhost:8080/"
    },
    "id": "mDySeNA624V0",
    "outputId": "85d004e3-e1bd-4a91-8230-52301edd5a78"
   },
   "outputs": [
    {
     "name": "stdout",
     "output_type": "stream",
     "text": [
      "python_helper_cosine: 0.011354927999946085 \n",
      "\n"
     ]
    }
   ],
   "source": [
    "def fun4(): #python_helper_cosine(vectorized knn clustering approach) \n",
    "    n_, K_dense = create_kernel(data, 'dense','cosine')\n",
    "t=timeit('fun4', 'from __main__ import fun4')\n",
    "l_record.append((\"python_helper_cosine\", t))\n",
    "print(\"python_helper_cosine:\", t,'\\n')"
   ]
  },
  {
   "cell_type": "markdown",
   "metadata": {
    "id": "FQgRvS1l26vo"
   },
   "source": [
    "**CPP Helper V/S Python Helper: SUMMARY**"
   ]
  },
  {
   "cell_type": "code",
   "execution_count": 30,
   "metadata": {
    "colab": {
     "base_uri": "https://localhost:8080/",
     "height": 168
    },
    "id": "1fOxFRCP27Lb",
    "outputId": "8bcd3b5a-934a-4628-a7ee-b0cbf12d6175"
   },
   "outputs": [
    {
     "data": {
      "text/html": [
       "<div>\n",
       "<style scoped>\n",
       "    .dataframe tbody tr th:only-of-type {\n",
       "        vertical-align: middle;\n",
       "    }\n",
       "\n",
       "    .dataframe tbody tr th {\n",
       "        vertical-align: top;\n",
       "    }\n",
       "\n",
       "    .dataframe thead th {\n",
       "        text-align: right;\n",
       "    }\n",
       "</style>\n",
       "<table border=\"1\" class=\"dataframe\">\n",
       "  <thead>\n",
       "    <tr style=\"text-align: right;\">\n",
       "      <th></th>\n",
       "      <th>name</th>\n",
       "      <th>time</th>\n",
       "    </tr>\n",
       "  </thead>\n",
       "  <tbody>\n",
       "    <tr>\n",
       "      <th>0</th>\n",
       "      <td>cpp_helper_euclidean</td>\n",
       "      <td>0.011600</td>\n",
       "    </tr>\n",
       "    <tr>\n",
       "      <th>1</th>\n",
       "      <td>python_helper_euclidean</td>\n",
       "      <td>0.013548</td>\n",
       "    </tr>\n",
       "    <tr>\n",
       "      <th>2</th>\n",
       "      <td>cpp_helper_cosine</td>\n",
       "      <td>0.019445</td>\n",
       "    </tr>\n",
       "    <tr>\n",
       "      <th>3</th>\n",
       "      <td>python_helper_cosine</td>\n",
       "      <td>0.011355</td>\n",
       "    </tr>\n",
       "  </tbody>\n",
       "</table>\n",
       "</div>"
      ],
      "text/plain": [
       "                      name      time\n",
       "0     cpp_helper_euclidean  0.011600\n",
       "1  python_helper_euclidean  0.013548\n",
       "2        cpp_helper_cosine  0.019445\n",
       "3     python_helper_cosine  0.011355"
      ]
     },
     "execution_count": 30,
     "metadata": {
      "tags": []
     },
     "output_type": "execute_result"
    }
   ],
   "source": [
    "df = pd.DataFrame(columns = ['name', 'time'],data=l_record)\n",
    "df"
   ]
  }
 ],
 "metadata": {
  "accelerator": "GPU",
  "colab": {
   "collapsed_sections": [],
   "name": "large_data_gen.ipynb",
   "provenance": []
  },
  "kernelspec": {
   "display_name": "Python 3",
   "language": "python",
   "name": "python3"
  },
  "language_info": {
   "codemirror_mode": {
    "name": "ipython",
    "version": 3
   },
   "file_extension": ".py",
   "mimetype": "text/x-python",
   "name": "python",
   "nbconvert_exporter": "python",
   "pygments_lexer": "ipython3",
   "version": "3.7.3"
  }
 },
 "nbformat": 4,
 "nbformat_minor": 1
}
