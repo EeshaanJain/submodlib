{
 "cells": [
  {
   "cell_type": "markdown",
   "metadata": {},
   "source": [
    "# Timing Analysis "
   ]
  },
  {
   "cell_type": "code",
   "execution_count": 1,
   "metadata": {},
   "outputs": [],
   "source": [
    "from timeit import timeit \n",
    "import numpy as np\n",
    "import pandas as pd\n",
    "from sklearn.metrics.pairwise import euclidean_distances\n",
    "from sklearn.metrics.pairwise import cosine_similarity\n",
    "from sklearn.metrics.pairwise import cosine_distances\n",
    "from sklearn.neighbors import NearestNeighbors\n",
    "from scipy import sparse\n",
    "import scipy\n",
    "import submodlib_cpp as subcp\n",
    "from submodlib.helper import create_kernel\n",
    "import random"
   ]
  },
  {
   "cell_type": "markdown",
   "metadata": {},
   "source": [
    "## 1) CPP Helper V/S Python Helper"
   ]
  },
  {
   "cell_type": "code",
   "execution_count": 10,
   "metadata": {},
   "outputs": [],
   "source": [
    "random.seed(0)\n",
    "def generate_datapoint(arg):\n",
    "    #random.seed(arg)\n",
    "    x=random.randrange(1000)-random.randrange(1000)\n",
    "    y=random.randrange(10)-random.randrange(10)\n",
    "    z=(random.randrange(100)/100)-(random.randrange(100)/100)\n",
    "    return (x,y,z)\n",
    "\n",
    "l = list(map(generate_datapoint, range(100000)))#Generating 100K 3D datapoints\n",
    "data = np.array(l)\n",
    "\n",
    "l_record=[]"
   ]
  },
  {
   "cell_type": "code",
   "execution_count": 11,
   "metadata": {},
   "outputs": [
    {
     "name": "stdout",
     "output_type": "stream",
     "text": [
      "cpp_helper_euclidean: 0.022349700000631856 \n",
      "\n"
     ]
    }
   ],
   "source": [
    "def fun1():# cpp_helper_euclidean (Non-vectorized, min-heap based approach)\n",
    "    subcp.create_kernel(data.tolist(), \"euclidean\" ,num_neigh)\n",
    "t=timeit('fun1', 'from __main__ import fun1')\n",
    "l_record.append((\"cpp_helper_euclidean\", t))\n",
    "print(\"cpp_helper_euclidean:\", t,'\\n')"
   ]
  },
  {
   "cell_type": "code",
   "execution_count": 12,
   "metadata": {},
   "outputs": [
    {
     "name": "stdout",
     "output_type": "stream",
     "text": [
      "python_helper_euclidean: 0.02727510000113398 \n",
      "\n"
     ]
    }
   ],
   "source": [
    "def fun2(): #python_helper_euclidean(vectorized knn clustering approach) \n",
    "    n_, K_dense = create_kernel(data, 'dense','euclidean')\n",
    "t=timeit('fun2', 'from __main__ import fun2')\n",
    "l_record.append((\"python_helper_euclidean\", t))\n",
    "print(\"python_helper_euclidean:\", t,'\\n')"
   ]
  },
  {
   "cell_type": "code",
   "execution_count": 13,
   "metadata": {},
   "outputs": [
    {
     "name": "stdout",
     "output_type": "stream",
     "text": [
      "cpp_helper_cosine: 0.018502599999919767 \n",
      "\n"
     ]
    }
   ],
   "source": [
    "def fun3():# cpp_helper_cosine (Non-vectorized, min-heap based approach)\n",
    "    subcp.create_kernel(data.tolist(), \"cosine\" ,num_neigh)\n",
    "t=timeit('fun3', 'from __main__ import fun3')\n",
    "l_record.append((\"cpp_helper_cosine\", t))\n",
    "print(\"cpp_helper_cosine:\", t,'\\n')"
   ]
  },
  {
   "cell_type": "code",
   "execution_count": 14,
   "metadata": {},
   "outputs": [
    {
     "name": "stdout",
     "output_type": "stream",
     "text": [
      "python_helper_cosine: 0.016780199999629986 \n",
      "\n"
     ]
    }
   ],
   "source": [
    "def fun4(): #python_helper_cosine(vectorized knn clustering approach) \n",
    "    n_, K_dense = create_kernel(data, 'dense','cosine')\n",
    "t=timeit('fun4', 'from __main__ import fun4')\n",
    "l_record.append((\"python_helper_cosine\", t))\n",
    "print(\"python_helper_cosine:\", t,'\\n')"
   ]
  },
  {
   "cell_type": "markdown",
   "metadata": {},
   "source": [
    "**CPP Helper V/S Python Helper: SUMMARY**"
   ]
  },
  {
   "cell_type": "code",
   "execution_count": 15,
   "metadata": {},
   "outputs": [
    {
     "data": {
      "text/html": [
       "<div>\n",
       "<style scoped>\n",
       "    .dataframe tbody tr th:only-of-type {\n",
       "        vertical-align: middle;\n",
       "    }\n",
       "\n",
       "    .dataframe tbody tr th {\n",
       "        vertical-align: top;\n",
       "    }\n",
       "\n",
       "    .dataframe thead th {\n",
       "        text-align: right;\n",
       "    }\n",
       "</style>\n",
       "<table border=\"1\" class=\"dataframe\">\n",
       "  <thead>\n",
       "    <tr style=\"text-align: right;\">\n",
       "      <th></th>\n",
       "      <th>name</th>\n",
       "      <th>time</th>\n",
       "    </tr>\n",
       "  </thead>\n",
       "  <tbody>\n",
       "    <tr>\n",
       "      <th>0</th>\n",
       "      <td>cpp_helper_euclidean</td>\n",
       "      <td>0.022350</td>\n",
       "    </tr>\n",
       "    <tr>\n",
       "      <th>1</th>\n",
       "      <td>python_helper_euclidean</td>\n",
       "      <td>0.027275</td>\n",
       "    </tr>\n",
       "    <tr>\n",
       "      <th>2</th>\n",
       "      <td>cpp_helper_cosine</td>\n",
       "      <td>0.018503</td>\n",
       "    </tr>\n",
       "    <tr>\n",
       "      <th>3</th>\n",
       "      <td>python_helper_cosine</td>\n",
       "      <td>0.016780</td>\n",
       "    </tr>\n",
       "  </tbody>\n",
       "</table>\n",
       "</div>"
      ],
      "text/plain": [
       "                      name      time\n",
       "0     cpp_helper_euclidean  0.022350\n",
       "1  python_helper_euclidean  0.027275\n",
       "2        cpp_helper_cosine  0.018503\n",
       "3     python_helper_cosine  0.016780"
      ]
     },
     "execution_count": 15,
     "metadata": {},
     "output_type": "execute_result"
    }
   ],
   "source": [
    "df = pd.DataFrame(columns = ['name', 'time'],data=l_record)\n",
    "df"
   ]
  }
 ],
 "metadata": {
  "kernelspec": {
   "display_name": "Python 3",
   "language": "python",
   "name": "python3"
  },
  "language_info": {
   "codemirror_mode": {
    "name": "ipython",
    "version": 3
   },
   "file_extension": ".py",
   "mimetype": "text/x-python",
   "name": "python",
   "nbconvert_exporter": "python",
   "pygments_lexer": "ipython3",
   "version": "3.7.3"
  }
 },
 "nbformat": 4,
 "nbformat_minor": 2
}
