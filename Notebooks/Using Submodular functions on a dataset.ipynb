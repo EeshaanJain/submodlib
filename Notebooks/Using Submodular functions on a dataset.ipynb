{
 "cells": [
  {
   "cell_type": "code",
   "execution_count": 6,
   "metadata": {},
   "outputs": [],
   "source": [
    "import numpy as np\n",
    "import matplotlib.pyplot as plt\n",
    "import random\n",
    "from scipy import sparse\n",
    "import scipy"
   ]
  },
  {
   "cell_type": "markdown",
   "metadata": {},
   "source": [
    "## Getting Hand Crafted Data as numpy array"
   ]
  },
  {
   "cell_type": "code",
   "execution_count": 9,
   "metadata": {},
   "outputs": [],
   "source": [
    "data =np.array( [(4.5,13.5), (5,13.5), (5.5,13.5), (14.5,13.5), (15,13.5), (15.5,13.5),\n",
    "(4.5,13), (5,13), (5.5,13), (14.5,13), (15,13), (15.5,13),\n",
    "(4.5,12.5), (5,12.5), (5.5,12.5), (14.5,12.5), (15,12.5), (15.5,12.5),\n",
    "(4.5,7.5), (5,7.5), (5.5,7.5), (14.5,7.5), (15,7.5), (15.5,7.5),\n",
    "(4.5,7), (5,7), (5.5,7), (14.5,7), (15,7), (15.5,7),\n",
    "(4.5,6.5), (5,6.5), (5.5,6.5), (14.5,6.5), (15,6.5), (15.5,6.5),\n",
    "(7.5,10), (12.5,10), (10,12.5), (10,7.5), (4.5, 15.5), (5,9.5), (5,10.5)] )"
   ]
  },
  {
   "cell_type": "code",
   "execution_count": 11,
   "metadata": {},
   "outputs": [
    {
     "data": {
      "text/plain": [
       "(43, 2)"
      ]
     },
     "execution_count": 11,
     "metadata": {},
     "output_type": "execute_result"
    }
   ],
   "source": [
    "np.shape(data)"
   ]
  },
  {
   "cell_type": "markdown",
   "metadata": {},
   "source": [
    "## Data Visualization"
   ]
  },
  {
   "cell_type": "code",
   "execution_count": 10,
   "metadata": {
    "scrolled": true
   },
   "outputs": [
    {
     "data": {
      "image/png": "[encoded data removed]",
      "text/plain": [
       "<Figure size 432x288 with 1 Axes>"
      ]
     },
     "metadata": {
      "needs_background": "light"
     },
     "output_type": "display_data"
    }
   ],
   "source": [
    "for el in data:\n",
    "    #print(el)\n",
    "    plt.plot(el[0],el[1],'ro')\n",
    "plt.show()"
   ]
  },
  {
   "cell_type": "code",
   "execution_count": 8,
   "metadata": {},
   "outputs": [],
   "source": [
    "from submodlib.functions.facilityLocation import FacilityLocationFunction"
   ]
  },
  {
   "cell_type": "markdown",
   "metadata": {},
   "source": [
    "## Facility Location\n",
    "\n",
    "There are two ways in which one can use Facility Location <br>\n",
    "1) User provides data matrix <br>\n",
    "2) User provides similarity matrix <br>\n",
    "\n",
    "In either cases, user can specify the number of nearest neighbors to be considered.\n",
    "\n",
    "Once the object has been created, we can invoke the following methods <br> \n",
    "a) **evaluate(X)**:It takes a sub-set of graound set and returns a score for the same. <br> \n",
    "More is the score, more representitive is X.\n",
    "\n",
    "b) **marginalGain(X, item)**: It takes a sub-set of ground set along with an additional datapoint in ground set (that's not already in the sub-set). It returns a value which reveals the change in score \n",
    "if that extra datapoint is added to the sub-set."
   ]
  },
  {
   "cell_type": "markdown",
   "metadata": {},
   "source": [
    "### 1) User Provides data matrix\n",
    "In this case, user doesn't need to bother about creation of similarity kernel. User can simply <br>\n",
    "specify the similarity metric and the mode (dense/sparse/cluster) and the module will create the <br>\n",
    "desired similarity matrix internally **(using C++ engine)** and use it.\n",
    "\n",
    "Here, lets consider this case on given data with dense mode and euclidean metric."
   ]
  },
  {
   "cell_type": "code",
   "execution_count": 20,
   "metadata": {},
   "outputs": [
    {
     "name": "stdout",
     "output_type": "stream",
     "text": [
      "16.300800323486328\n",
      "15.676816940307617\n",
      "0.8039540648460388\n"
     ]
    }
   ],
   "source": [
    "obj = FacilityLocationFunction(n=43, data=data, mode=\"dense\", metric=\"euclidean\")\n",
    "X = {0,1,5,3,8}\n",
    "print(obj.evaluate(X))\n",
    "X = {10,25}\n",
    "print(obj.evaluate(X))\n",
    "X = {0,1,5,3,8}\n",
    "print(obj.marginalGain(X,10))"
   ]
  },
  {
   "cell_type": "markdown",
   "metadata": {},
   "source": [
    "### 2) User Provides similarity matrix\n",
    "In this case, user can user the **Python helper function** to create a similarity matrix and provide <br>\n",
    "the same to Facility Location.\n",
    "Here, lets consider this case with same scenerio as before"
   ]
  },
  {
   "cell_type": "code",
   "execution_count": 19,
   "metadata": {},
   "outputs": [
    {
     "name": "stdout",
     "output_type": "stream",
     "text": [
      "16.300800323486328\n",
      "15.676816940307617\n",
      "0.8039540648460388\n"
     ]
    }
   ],
   "source": [
    "from submodlib.helper import create_kernel\n",
    "K_dense = create_kernel(data, 'dense','euclidean')\n",
    "obj = FacilityLocationFunction(n=43, sijs = K_dense)\n",
    "X = {0,1,5,3,8}\n",
    "print(obj.evaluate(X))\n",
    "X = {10,25}\n",
    "print(obj.evaluate(X))\n",
    "X = {0,1,5,3,8}\n",
    "print(obj.marginalGain(X,10))"
   ]
  }
 ],
 "metadata": {
  "kernelspec": {
   "display_name": "Python 3",
   "language": "python",
   "name": "python3"
  },
  "language_info": {
   "codemirror_mode": {
    "name": "ipython",
    "version": 3
   },
   "file_extension": ".py",
   "mimetype": "text/x-python",
   "name": "python",
   "nbconvert_exporter": "python",
   "pygments_lexer": "ipython3",
   "version": "3.7.3"
  }
 },
 "nbformat": 4,
 "nbformat_minor": 2
}
