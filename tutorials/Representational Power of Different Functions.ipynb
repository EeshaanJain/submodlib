{
 "cells": [
  {
   "cell_type": "markdown",
   "metadata": {},
   "source": [
    "# Hand-crafted Data\n",
    "\n",
    "In this notebook we shall compare and contrast the modeling capabilities of different functions provided in submodlib. To carefully observe the characteristics of the optimal set obtained by the maximization of these functions, we begin by creating a controlled dataset of 43 2D points as below. Specifically we have some clusters and some outliers in this dataset."
   ]
  },
  {
   "cell_type": "code",
   "execution_count": 1,
   "metadata": {},
   "outputs": [],
   "source": [
    "import numpy as np\n",
    "data =np.array( [(4.5,13.5), (5,13.5), (5.5,13.5), (14.5,13.5), (15,13.5), (15.5,13.5),\n",
    "(4.5,13), (5,13), (5.5,13), (14.5,13), (15,13), (15.5,13),\n",
    "(4.5,12.5), (5,12.5), (5.5,12.5), (14.5,12.5), (15,12.5), (15.5,12.5),\n",
    "(4.5,7.5), (5,7.5), (5.5,7.5), (14.5,7.5), (15,7.5), (15.5,7.5),\n",
    "(4.5,7), (5,7), (5.5,7), (14.5,7), (15,7), (15.5,7),\n",
    "(4.5,6.5), (5,6.5), (5.5,6.5), (14.5,6.5), (15,6.5), (15.5,6.5),\n",
    "(7.5,10), (12.5,10), (10,12.5), (10,7.5), (4.5, 15.5), (5,9.5), (5,10.5)] )\n",
    "xs = [x[0] for x in data]\n",
    "ys = [x[1] for x in data]"
   ]
  },
  {
   "cell_type": "code",
   "execution_count": 2,
   "metadata": {},
   "outputs": [
    {
     "data": {
      "text/plain": [
       "<matplotlib.collections.PathCollection at 0x7fcc9d0ac610>"
      ]
     },
     "execution_count": 2,
     "metadata": {},
     "output_type": "execute_result"
    },
    {
     "data": {
      "image/png": "[encoded data removed]",
      "text/plain": [
       "<Figure size 432x288 with 1 Axes>"
      ]
     },
     "metadata": {
      "needs_background": "light"
     },
     "output_type": "display_data"
    }
   ],
   "source": [
    "import matplotlib.pyplot as plt\n",
    "plt.scatter(xs, ys, s=50, color='black', label=\"Images\")"
   ]
  },
  {
   "cell_type": "markdown",
   "metadata": {},
   "source": [
    "# Selection by Facility Location\n",
    "\n",
    "Following the basic usage of functions as discussed in [Basic Usage](Basic%20Usage.ipynb) we instantiate a [FacilityLocation](https://submodlib.readthedocs.io/en/latest/functions/facilityLocation.html) object (in this paerticular case a dense similarity kernel will be created internally in C++) and maximize it to find the optimal set of size 10. We visualize the points in the optimal set (blue) along with the order in which they got picked up by the naive greedy max algorithm."
   ]
  },
  {
   "cell_type": "code",
   "execution_count": 3,
   "metadata": {},
   "outputs": [
    {
     "data": {
      "image/png": "[encoded data removed]",
      "text/plain": [
       "<Figure size 432x288 with 1 Axes>"
      ]
     },
     "metadata": {
      "needs_background": "light"
     },
     "output_type": "display_data"
    }
   ],
   "source": [
    "from submodlib.functions.facilityLocation import FacilityLocationFunction\n",
    "objFL = FacilityLocationFunction(n=43, data=data, mode=\"dense\", metric=\"euclidean\")\n",
    "greedyList = objFL.maximize(budget=10,optimizer='NaiveGreedy', stopIfZeroGain=False, stopIfNegativeGain=False, verbose=False)\n",
    "greedyXs = [xs[x[0]] for x in greedyList]\n",
    "greedyYs = [ys[x[0]] for x in greedyList]\n",
    "plt.scatter(xs, ys, s=50, color='black', label=\"Images\")\n",
    "plt.scatter(greedyXs, greedyYs, s=50, color='blue', label=\"Greedy Set\")\n",
    "for label, element in enumerate(greedyList):\n",
    "    plt.annotate(label, (xs[element[0]], ys[element[0]]), (xs[element[0]]+0.1, ys[element[0]]+0.1))"
   ]
  },
  {
   "cell_type": "markdown",
   "metadata": {},
   "source": [
    "In case of FacilityLocation we observe that the cluster centers get picked up first followed by the other diverse oints in the data set and the outlier point is picked up only at the end. Had the budget been less than 10, the outlier wouldn't even have got picked up. This is expected as Facility Location primarily models **representation**. "
   ]
  },
  {
   "cell_type": "markdown",
   "metadata": {},
   "source": [
    "# Selection by Disparity Sum\n",
    "\n",
    "Following the basic usage of functions as discussed in [Basic Usage](Basic%20Usage.ipynb) we instantiate a [DisparitySum](https://submodlib.readthedocs.io/en/latest/functions/disparitySum.html) object (in this particular case a dense similarity kernel will be created internally in C++) and maximize it to find the optimal set of size 10. We visualize the points in the optimal set (blue) along with the order in which they got picked up by the naive greedy max algorithm."
   ]
  },
  {
   "cell_type": "code",
   "execution_count": 4,
   "metadata": {},
   "outputs": [
    {
     "data": {
      "image/png": "[encoded data removed]",
      "text/plain": [
       "<Figure size 432x288 with 1 Axes>"
      ]
     },
     "metadata": {
      "needs_background": "light"
     },
     "output_type": "display_data"
    }
   ],
   "source": [
    "from submodlib.functions.disparitySum import DisparitySumFunction\n",
    "objDM = DisparitySumFunction(n=43, data=data, mode=\"dense\", metric=\"euclidean\")\n",
    "greedyList = objDM.maximize(budget=10,optimizer='NaiveGreedy', stopIfZeroGain=False, stopIfNegativeGain=False, verbose=False)\n",
    "greedyXs = [xs[x[0]] for x in greedyList]\n",
    "greedyYs = [ys[x[0]] for x in greedyList]\n",
    "plt.scatter(xs, ys, s=50, color='black', label=\"Images\")\n",
    "plt.scatter(greedyXs, greedyYs, s=50, color='blue', label=\"Greedy Set\")\n",
    "for label, element in enumerate(greedyList):\n",
    "    plt.annotate(label, (xs[element[0]], ys[element[0]]), (xs[element[0]]+0.1, ys[element[0]]+0.1))"
   ]
  },
  {
   "cell_type": "markdown",
   "metadata": {},
   "source": [
    "In case of DisparitySum we observe that the remote corner points get picked up first followed by the other diverse points in the data set **including** the outlier point. This is expected as Disparity Sum primarily models **diversity** and wouldn't mind picking up outlier points if that makes the set diverse enough, compromising on the representativeness of the set with respect to the ground set."
   ]
  }
 ],
 "metadata": {
  "kernelspec": {
   "display_name": "Python 3",
   "language": "python",
   "name": "python3"
  },
  "language_info": {
   "codemirror_mode": {
    "name": "ipython",
    "version": 3
   },
   "file_extension": ".py",
   "mimetype": "text/x-python",
   "name": "python",
   "nbconvert_exporter": "python",
   "pygments_lexer": "ipython3",
   "version": "3.9.2"
  }
 },
 "nbformat": 4,
 "nbformat_minor": 4
}
